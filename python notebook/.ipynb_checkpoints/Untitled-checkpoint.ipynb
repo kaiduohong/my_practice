{
 "cells": [
  {
   "cell_type": "code",
   "execution_count": null,
   "metadata": {},
   "outputs": [],
   "source": [
    "import tensorflow as tf\n",
    "import numpy as np\n",
    "import os\n",
    "# 导入可视化库\n",
    "\n",
    "import PIL.Image\n",
    "from io import BytesIO\n",
    "from IPython.display import clear_output, Image, display\n",
    "import scipy.ndimage as nd\n",
    "\n",
    "def DisplayFractal(a, fmt='jpeg'):\n",
    "  \"\"\"显示迭代计算出的彩色分形图像。\"\"\"\n",
    "  a_cyclic = (6.28*a/20.0).reshape(list(a.shape)+[1])\n",
    "  img = np.concatenate([10+20*np.cos(a_cyclic),\n",
    "                        30+50*np.sin(a_cyclic),\n",
    "                        155-80*np.cos(a_cyclic)], 2)\n",
    "  img[a==a.max()] = 0\n",
    "  a = img\n",
    "  a = np.uint8(np.clip(a, 0, 255))\n",
    "  f = BytesIO()\n",
    "  PIL.Image.fromarray(a).save(f, fmt)\n",
    "  d = f.getvalue()\n",
    "  print(d)\n",
    "  display(Image(d))\n",
    "  os.system(\"pause\")\n",
    "\n",
    "\n",
    "sess = tf.InteractiveSession()\n",
    "# 使用NumPy创建一个在[-2,2]x[-2,2]范围内的2维复数数组\n",
    "Y, X = np.mgrid[-1.3:1.3:0.005, -2:1:0.005]\n",
    "Z = X + 1j * Y\n",
    "xs = tf.constant(Z.astype(\"complex64\"))\n",
    "zs = tf.Variable(xs)\n",
    "ns = tf.Variable(tf.zeros_like(xs, \"float32\"))\n",
    "tf.global_variables_initializer().run()\n",
    "  # 计算一个新值z: z^2 + x\n",
    "zs_ = zs * zs + xs\n",
    "\n",
    "  # 这个新值会发散吗？\n",
    "not_diverged = tf.abs(zs_) < 4\n",
    "\n",
    "# 更新zs并且迭代计算。\n",
    "#\n",
    "# 说明：在这些值发散之后，我们仍然在计算zs，这个计算消耗特别大！\n",
    "#      如果稍微简单点，这里有更好的方法来处理。\n",
    "#\n",
    "step = tf.group(\n",
    "  zs.assign(zs_),\n",
    "  ns.assign_add(tf.cast(not_diverged, \"float32\"))\n",
    ")\n",
    "for i in range(200): step.run()\n",
    "DisplayFractal(ns.eval())\n",
    "print(\"done!\")"
   ]
  }
 ],
 "metadata": {
  "kernelspec": {
   "display_name": "Python 3",
   "language": "python",
   "name": "python3"
  },
  "language_info": {
   "codemirror_mode": {
    "name": "ipython",
    "version": 3
   },
   "file_extension": ".py",
   "mimetype": "text/x-python",
   "name": "python",
   "nbconvert_exporter": "python",
   "pygments_lexer": "ipython3",
   "version": "3.7.1"
  }
 },
 "nbformat": 4,
 "nbformat_minor": 2
}
